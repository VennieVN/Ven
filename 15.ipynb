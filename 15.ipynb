{
 "cells": [
  {
   "cell_type": "code",
   "execution_count": 1,
   "id": "abbedcdd-1f79-4866-ab2f-61df59958d68",
   "metadata": {},
   "outputs": [
    {
     "name": "stdout",
     "output_type": "stream",
     "text": [
      "Collecting scipy\n",
      "  Downloading scipy-1.14.1-cp312-cp312-win_amd64.whl.metadata (60 kB)\n",
      "Requirement already satisfied: numpy<2.3,>=1.23.5 in c:\\programdata\\anaconda3\\lib\\site-packages (from scipy) (1.26.4)\n",
      "Downloading scipy-1.14.1-cp312-cp312-win_amd64.whl (44.5 MB)\n",
      "   ---------------------------------------- 0.0/44.5 MB ? eta -:--:--\n",
      "    --------------------------------------- 0.8/44.5 MB 11.2 MB/s eta 0:00:04\n",
      "   --- ------------------------------------ 3.7/44.5 MB 10.9 MB/s eta 0:00:04\n",
      "   ----- ---------------------------------- 6.0/44.5 MB 11.2 MB/s eta 0:00:04\n",
      "   ------- -------------------------------- 8.4/44.5 MB 11.3 MB/s eta 0:00:04\n",
      "   --------- ------------------------------ 10.7/44.5 MB 11.6 MB/s eta 0:00:03\n",
      "   ----------- ---------------------------- 13.1/44.5 MB 11.4 MB/s eta 0:00:03\n",
      "   ------------- -------------------------- 15.5/44.5 MB 11.6 MB/s eta 0:00:03\n",
      "   ---------------- ----------------------- 17.8/44.5 MB 11.6 MB/s eta 0:00:03\n",
      "   ------------------ --------------------- 20.4/44.5 MB 11.6 MB/s eta 0:00:03\n",
      "   -------------------- ------------------- 22.8/44.5 MB 11.6 MB/s eta 0:00:02\n",
      "   ---------------------- ----------------- 25.2/44.5 MB 11.6 MB/s eta 0:00:02\n",
      "   ------------------------ --------------- 27.5/44.5 MB 11.6 MB/s eta 0:00:02\n",
      "   -------------------------- ------------- 29.9/44.5 MB 11.6 MB/s eta 0:00:02\n",
      "   ---------------------------- ----------- 32.2/44.5 MB 11.6 MB/s eta 0:00:02\n",
      "   ------------------------------- -------- 34.6/44.5 MB 11.6 MB/s eta 0:00:01\n",
      "   --------------------------------- ------ 37.2/44.5 MB 11.7 MB/s eta 0:00:01\n",
      "   ----------------------------------- ---- 39.6/44.5 MB 11.7 MB/s eta 0:00:01\n",
      "   ------------------------------------- -- 41.9/44.5 MB 11.6 MB/s eta 0:00:01\n",
      "   ---------------------------------------  44.0/44.5 MB 11.6 MB/s eta 0:00:01\n",
      "   ---------------------------------------  44.3/44.5 MB 11.6 MB/s eta 0:00:01\n",
      "   ---------------------------------------- 44.5/44.5 MB 11.0 MB/s eta 0:00:00\n",
      "Installing collected packages: scipy\n",
      "Successfully installed scipy-1.14.1\n"
     ]
    }
   ],
   "source": [
    "!pip install scipy"
   ]
  },
  {
   "cell_type": "code",
   "execution_count": 9,
   "id": "8bf321f0-9d48-450f-9f31-6b697b5c1eac",
   "metadata": {},
   "outputs": [
    {
     "name": "stdout",
     "output_type": "stream",
     "text": [
      "Kết quả:  [0.65 0.45]\n"
     ]
    }
   ],
   "source": [
    "from scipy import linalg\n",
    "import numpy as np\n",
    "# Định nghĩa hệ phương trình tuyến tính\n",
    "A = np.array([[7, 1],[8, 4]])\n",
    "b = np.array([5,7])\n",
    "\n",
    "# Giải hệ phương trình tuyến tính\n",
    "x = linalg.solve(A, b)\n",
    "print(\"Kết quả: \", x)"
   ]
  },
  {
   "cell_type": "code",
   "execution_count": 13,
   "id": "575f9fe6-ee4d-408d-9ec3-c0bdf940a959",
   "metadata": {},
   "outputs": [
    {
     "name": "stdout",
     "output_type": "stream",
     "text": [
      "Tích phân f(x) từ 0 đến 1:  (2.3333333333333335, 2.590520390792032e-14)\n"
     ]
    }
   ],
   "source": [
    "# Tính tích phân của một hàm số\n",
    "from scipy import integrate\n",
    "\n",
    "# Định nghĩa hàm f(x) = x^2 -2x + 3\n",
    "def my_function(x):\n",
    "    return x**2 - 2*x + 3 \n",
    "\n",
    "# Tính tích phân của f(x) từ 0 đến 1\n",
    "integral = integrate.quad(my_function, 0, 1);\n",
    "print(\"Tích phân f(x) từ 0 đến 1: \", integral)"
   ]
  },
  {
   "cell_type": "code",
   "execution_count": 15,
   "id": "4df9e4b3-abf5-4054-bee5-4585d5a55416",
   "metadata": {},
   "outputs": [
    {
     "name": "stdout",
     "output_type": "stream",
     "text": [
      "Giá trị riêng:  [8.70156212+0.j 2.29843788+0.j]\n",
      "Vector riêng:  [[ 0.50667419 -0.20804149]\n",
      " [ 0.86213761  0.97812   ]]\n"
     ]
    }
   ],
   "source": [
    "from scipy import linalg\n",
    "import numpy as np\n",
    "\n",
    "# Tính giá trị riêng và vector riêng của một ma trận:\n",
    "A = np.array([[7, 1],[8, 4]])\n",
    "\n",
    "# Tính giá trị riêng và vector riêng của ma trận\n",
    "evals, evecs = linalg.eig(A)\n",
    "\n",
    "print(\"Giá trị riêng: \", evals)\n",
    "print(\"Vector riêng: \", evecs)"
   ]
  },
  {
   "cell_type": "code",
   "execution_count": null,
   "id": "96d9859e-76cd-4b11-b021-f449f4846333",
   "metadata": {},
   "outputs": [],
   "source": []
  }
 ],
 "metadata": {
  "kernelspec": {
   "display_name": "Python 3 (ipykernel)",
   "language": "python",
   "name": "python3"
  },
  "language_info": {
   "codemirror_mode": {
    "name": "ipython",
    "version": 3
   },
   "file_extension": ".py",
   "mimetype": "text/x-python",
   "name": "python",
   "nbconvert_exporter": "python",
   "pygments_lexer": "ipython3",
   "version": "3.12.4"
  }
 },
 "nbformat": 4,
 "nbformat_minor": 5
}
