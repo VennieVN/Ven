{
 "cells": [
  {
   "cell_type": "code",
   "execution_count": 1,
   "id": "16220199-b8ac-4e3a-94db-372e3138fbf5",
   "metadata": {},
   "outputs": [],
   "source": [
    "import cv2"
   ]
  },
  {
   "cell_type": "code",
   "execution_count": 5,
   "id": "8911746b-4523-4f96-a9c6-eac6b1df4320",
   "metadata": {},
   "outputs": [],
   "source": [
    "# Đọc video từ file\n",
    "my_video = cv2.VideoCapture('C:/Users/Admin/Desktop/data/CryBaby.mp4')"
   ]
  },
  {
   "cell_type": "code",
   "execution_count": 10,
   "id": "942d42f1-99f7-479f-b1c6-15942708c3a5",
   "metadata": {},
   "outputs": [],
   "source": [
    "# Tạo cửa sổ để hiển thị\n",
    "cv2.namedWindow('Video Player', cv2.WINDOW_NORMAL)"
   ]
  },
  {
   "cell_type": "code",
   "execution_count": 11,
   "id": "81c31d15-58f7-40a5-9977-c6134287e84f",
   "metadata": {},
   "outputs": [],
   "source": [
    "# Hiển thị từng khung ảnh\n",
    "while True:\n",
    "    # Đọc 1 frame\n",
    "    ret, frame = my_video.read()\n",
    "    \n",
    "    # Thoát khi không thể đọc được frame\n",
    "    if not ret:\n",
    "        break\n",
    "    \n",
    "    # Hiển thị\n",
    "    cv2.imshow('Video Player', frame)\n",
    "    \n",
    "    if(cv2.waitKey(10)==ord('q')):\n",
    "        break"
   ]
  },
  {
   "cell_type": "code",
   "execution_count": 12,
   "id": "bb58915c-b95d-4144-8425-519477231e6c",
   "metadata": {},
   "outputs": [],
   "source": [
    "# Hủy bỏ player\n",
    "my_video.release\n",
    "cv2.destroyAllWindows()"
   ]
  },
  {
   "cell_type": "code",
   "execution_count": null,
   "id": "853cadfc-0eba-42c7-a4c5-4c2c721810e5",
   "metadata": {},
   "outputs": [],
   "source": []
  }
 ],
 "metadata": {
  "kernelspec": {
   "display_name": "Python 3 (ipykernel)",
   "language": "python",
   "name": "python3"
  },
  "language_info": {
   "codemirror_mode": {
    "name": "ipython",
    "version": 3
   },
   "file_extension": ".py",
   "mimetype": "text/x-python",
   "name": "python",
   "nbconvert_exporter": "python",
   "pygments_lexer": "ipython3",
   "version": "3.12.4"
  }
 },
 "nbformat": 4,
 "nbformat_minor": 5
}
