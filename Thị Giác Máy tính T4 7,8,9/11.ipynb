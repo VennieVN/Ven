{
 "cells": [
  {
   "cell_type": "code",
   "execution_count": 3,
   "id": "38a6b3b0-3922-4d10-8557-e66663703824",
   "metadata": {},
   "outputs": [
    {
     "name": "stdout",
     "output_type": "stream",
     "text": [
      "[1 2 3]\n",
      "2\n"
     ]
    }
   ],
   "source": [
    "import numpy as np\n",
    "\n",
    "# Tạo mảng\n",
    "a = np.array([1,2,3])\n",
    "\n",
    "# In mảng\n",
    "print(a)\n",
    "\n",
    "# In ra 1 phần tử\n",
    "element = a[1]\n",
    "print(element)"
   ]
  },
  {
   "cell_type": "code",
   "execution_count": 5,
   "id": "3e220764-664b-4995-847d-39c6dbf810b1",
   "metadata": {},
   "outputs": [
    {
     "name": "stdout",
     "output_type": "stream",
     "text": [
      "Matrix:\n",
      "[[1 2 3]\n",
      " [7 8 9]\n",
      " [8 5 2]]\n",
      "9\n"
     ]
    }
   ],
   "source": [
    "# Tạo mảng 2 chiều\n",
    "matrix = np.array([[1, 2, 3], [7, 8, 9], [8, 5, 2]])\n",
    "print(\"Matrix:\")\n",
    "print(matrix)\n",
    "\n",
    "# In một phần tử\n",
    "element = matrix[1, 2]\n",
    "print(element)"
   ]
  },
  {
   "cell_type": "code",
   "execution_count": 7,
   "id": "9962e080-c0f9-4187-8b34-edd5e4c72105",
   "metadata": {},
   "outputs": [
    {
     "name": "stdout",
     "output_type": "stream",
     "text": [
      "[0. 0. 0. 0.]\n",
      "[1. 1. 1. 1.]\n",
      "[1. 1. 1. 1.]\n",
      "[ 0  1  2  3  4  5  6  7  8  9 10 11 12 13 14 15 16 17 18 19 20 21 22 23\n",
      " 24 25 26 27 28 29 30 31 32 33 34 35 36 37 38 39 40 41 42 43 44 45 46 47\n",
      " 48 49 50 51 52 53 54 55 56 57 58 59 60 61 62 63 64 65 66 67 68 69 70 71\n",
      " 72 73 74 75 76 77 78 79 80 81 82 83 84 85 86 87 88 89 90 91 92 93 94 95\n",
      " 96 97 98 99]\n",
      "[ 0.          3.33333333  6.66666667 10.        ]\n"
     ]
    },
    {
     "data": {
      "text/plain": [
       "array([1, 1, 1, 1], dtype=int64)"
      ]
     },
     "execution_count": 7,
     "metadata": {},
     "output_type": "execute_result"
    }
   ],
   "source": [
    "# Cách tạo mảng\n",
    "# Tạo mảng toàn là số 0\n",
    "a = np.zeros(4)\n",
    "print(a)\n",
    "\n",
    "# Tạo mảng toàn là số 1\n",
    "a = np.ones(4)\n",
    "print(a)\n",
    "\n",
    "# Tạo mảng\n",
    "a = np.empty(4)\n",
    "print(a)\n",
    "\n",
    "# Tạo mảng từ 0 đến 100\n",
    "a = np.arange(100)\n",
    "print(a)\n",
    "\n",
    "# Tạo mảng gồm các phần tử với khoảng cách đều nhau\n",
    "a = np.linspace(0, 10, num=4)\n",
    "print(a)\n",
    "\n",
    "\n",
    "# Xác định kiểu dữ liệu\n",
    "a = np.ones(4, dtype=np.int64)\n",
    "a"
   ]
  },
  {
   "cell_type": "code",
   "execution_count": 13,
   "id": "99ac6c51-de43-4f31-b76c-a5044a2c2b01",
   "metadata": {},
   "outputs": [
    {
     "name": "stdout",
     "output_type": "stream",
     "text": [
      "[3 1 2 4]\n",
      "[1 2 3 4]\n",
      "[4 3 2 1]\n",
      "[  4   3   2   1 100]\n",
      "[  4   3   1 100]\n"
     ]
    }
   ],
   "source": [
    "# Thêm, xóa, sắp xếp mảng\n",
    "\n",
    "# Create new array\n",
    "arr = np.array([3, 1, 2, 4])\n",
    "print(arr)\n",
    "\n",
    "# Sort\n",
    "arr = np.sort(arr)\n",
    "print(arr)\n",
    "\n",
    "# Sort -1\n",
    "arr = np.sort(arr)[::-1]\n",
    "print(arr)\n",
    "\n",
    "# Append 1 more to the right\n",
    "arr = np.append(arr, 100)\n",
    "print(arr)\n",
    "\n",
    "# Delete position\n",
    "arr = np.delete(arr, 2)\n",
    "print(arr)"
   ]
  },
  {
   "cell_type": "code",
   "execution_count": 17,
   "id": "b803d30c-c22e-47b3-aa4e-11ef1532ef65",
   "metadata": {},
   "outputs": [
    {
     "name": "stdout",
     "output_type": "stream",
     "text": [
      "[[1 2 3]\n",
      " [4 6 8]\n",
      " [5 7 9]]\n",
      "[[3 1 2]\n",
      " [8 6 4]\n",
      " [9 7 5]]\n"
     ]
    }
   ],
   "source": [
    "# Tạo một mảng 2 chiều\n",
    "arr = np.array([[3, 1, 2],\n",
    "                [8, 6, 4],\n",
    "                [9, 7, 5]])\n",
    "\n",
    "sort_row = np.sort(arr, axis=1) # inc\n",
    "print(sort_row)\n",
    "\n",
    "sort_collumn = np.sort(arr, axis=0) # inc\n",
    "print(sort_collumn)"
   ]
  },
  {
   "cell_type": "code",
   "execution_count": 21,
   "id": "5bf26c0e-34d5-4213-9571-f6216fbe745f",
   "metadata": {},
   "outputs": [
    {
     "name": "stdout",
     "output_type": "stream",
     "text": [
      "dimension number: 2\n",
      "Size: 6\n",
      "Shape: (2, 3)\n"
     ]
    }
   ],
   "source": [
    "# Tạo một mảng 2D\n",
    "arr = np.array([[1, 2, 3], [4, 5, 6]])\n",
    "\n",
    "# Sử dụng các thuộc tính để lấy thông tin về mảng\n",
    "dimension_number = arr.ndim  # dimension number (2 chiều)\n",
    "si_ze = arr.size  # Size (tổng số phần tử, 6)\n",
    "Sha_pe = arr.shape  # Shape (số hàng x số cột, (2, 3))\n",
    "\n",
    "print(\"dimension number:\", dimension_number)\n",
    "print(\"Size:\", si_ze)\n",
    "print(\"Shape:\", Sha_pe)"
   ]
  },
  {
   "cell_type": "code",
   "execution_count": 23,
   "id": "66663752-b50b-45f7-88d3-d9795ae4c716",
   "metadata": {},
   "outputs": [
    {
     "name": "stdout",
     "output_type": "stream",
     "text": [
      "[ 6.  7.  8.  9. 10.]\n"
     ]
    }
   ],
   "source": [
    "# Convert data type\n",
    "arr = np.array([6, 7, 8, 9, 10])\n",
    "arr_float = arr.astype(float)\n",
    "print(arr_float)"
   ]
  },
  {
   "cell_type": "code",
   "execution_count": 33,
   "id": "fb5e34d5-40cb-4415-a73b-f4c5e5097d49",
   "metadata": {},
   "outputs": [
    {
     "name": "stdout",
     "output_type": "stream",
     "text": [
      "[[1 2 3]\n",
      " [4 5 6]]\n",
      "[[1 2]\n",
      " [3 4]\n",
      " [5 6]]\n"
     ]
    }
   ],
   "source": [
    "# Reshaping the array\n",
    "arr = np.array([1, 2, 3, 4, 5, 6])\n",
    "reshaped_arr = arr.reshape(2,3)\n",
    "print(reshaped_arr)\n",
    "reshaped_arr = arr.reshape(3,2)\n",
    "print(reshaped_arr)"
   ]
  },
  {
   "cell_type": "code",
   "execution_count": 35,
   "id": "38713d34-fc6f-439c-9f93-2e4cdc07e1a9",
   "metadata": {},
   "outputs": [
    {
     "name": "stdout",
     "output_type": "stream",
     "text": [
      "[1 2 3 4 5 6]\n"
     ]
    }
   ],
   "source": [
    "reshaped_arr = reshaped_arr.flatten() # Change to first dim\n",
    "print(reshaped_arr)"
   ]
  },
  {
   "cell_type": "code",
   "execution_count": 37,
   "id": "a16b82e3-775b-4a99-a0ca-7ee5dc4ed9f7",
   "metadata": {},
   "outputs": [
    {
     "name": "stdout",
     "output_type": "stream",
     "text": [
      "[2 3 4]\n",
      "[1 2 3]\n",
      "[3 4 5]\n"
     ]
    }
   ],
   "source": [
    "# Cut the array\n",
    "arr = np.array([1, 2, 3, 4, 5])\n",
    "\n",
    "sub_arr = arr[1:4]  # Cắt từ phần tử thứ 1 đến 4\n",
    "print(sub_arr) # 2 3 4 5\n",
    "\n",
    "sub_arr = arr[:-2]  # 2 3 4\n",
    "print(sub_arr)\n",
    "\n",
    "sub_arr = arr[-3:]  # 5 \n",
    "print(sub_arr)"
   ]
  },
  {
   "cell_type": "code",
   "execution_count": 39,
   "id": "947444bc-ae11-4567-aa02-3982ffeaeb77",
   "metadata": {},
   "outputs": [
    {
     "name": "stdout",
     "output_type": "stream",
     "text": [
      "[[1 2 3]\n",
      " [4 5 6]]\n",
      "[[1 4]\n",
      " [2 5]\n",
      " [3 6]]\n"
     ]
    }
   ],
   "source": [
    "#  Transpose array\n",
    "arr = np.array([[1, 2, 3], [4, 5, 6]])\n",
    "print(arr)\n",
    "# To transpose the array, we can use .T or the numpy.transpose() function.\n",
    "transposed_arr = arr.T\n",
    "print(transposed_arr)"
   ]
  },
  {
   "cell_type": "code",
   "execution_count": 41,
   "id": "d3082c85-ea59-4d5f-a3ea-ee1f9ffa00f5",
   "metadata": {},
   "outputs": [
    {
     "name": "stdout",
     "output_type": "stream",
     "text": [
      "[1 2 3 4 5 6]\n"
     ]
    }
   ],
   "source": [
    "# Combine array\n",
    "arr1 = np.array([1, 2, 3])\n",
    "arr2 = np.array([4, 5, 6])\n",
    "arr = np.concatenate((arr1, arr2))\n",
    "print(arr)"
   ]
  },
  {
   "cell_type": "code",
   "execution_count": null,
   "id": "8655c5b6-0194-48f8-910e-187b0b315d98",
   "metadata": {},
   "outputs": [],
   "source": []
  }
 ],
 "metadata": {
  "kernelspec": {
   "display_name": "Python 3 (ipykernel)",
   "language": "python",
   "name": "python3"
  },
  "language_info": {
   "codemirror_mode": {
    "name": "ipython",
    "version": 3
   },
   "file_extension": ".py",
   "mimetype": "text/x-python",
   "name": "python",
   "nbconvert_exporter": "python",
   "pygments_lexer": "ipython3",
   "version": "3.12.4"
  }
 },
 "nbformat": 4,
 "nbformat_minor": 5
}
