{
 "cells": [
  {
   "cell_type": "code",
   "execution_count": 3,
   "id": "05a2b85d-71d5-476f-a251-993cdc11e963",
   "metadata": {},
   "outputs": [],
   "source": [
    "import cv2\n",
    "import time"
   ]
  },
  {
   "cell_type": "code",
   "execution_count": 8,
   "id": "718e0e25-bcb6-457c-afbf-e314c6c27111",
   "metadata": {},
   "outputs": [],
   "source": [
    "# Đọc video từ file\n",
    "my_video = cv2.VideoCapture('C:/Users/Admin/Desktop/data/CryBaby.mp4')"
   ]
  },
  {
   "cell_type": "code",
   "execution_count": 7,
   "id": "e4212f6d-3de1-4bfe-8ab6-9104a46d2cb8",
   "metadata": {},
   "outputs": [],
   "source": [
    "# Tạo cửa sổ để hiển thị\n",
    "cv2.namedWindow('Video Player', cv2.WINDOW_NORMAL)"
   ]
  },
  {
   "cell_type": "code",
   "execution_count": 12,
   "id": "112819e8-f568-47ff-91b5-4d97f61622f1",
   "metadata": {},
   "outputs": [],
   "source": [
    "# Ghi text trên hình ảnh\n",
    "font = cv2.FONT_HERSHEY_SIMPLEX\n",
    "font_color = (255, 255, 255)\n",
    "font_scale = 2\n",
    "font_thicknes = 2"
   ]
  },
  {
   "cell_type": "code",
   "execution_count": null,
   "id": "99602913-cded-465b-961e-d8767479fc9b",
   "metadata": {},
   "outputs": [],
   "source": [
    "# Hiển thị từng khung ảnh\n",
    "while True:\n",
    "    # Thời gian trước khi đọc\n",
    "    start_time = time.time()\n",
    "    # Đọc 1 frame\n",
    "    ret, frame = my_video.read()\n",
    "    # Thoát khi không thể đọc được frame\n",
    "    if not ret:\n",
    "        break\n",
    "    # Thời gian trước khi đọc\n",
    "    end_time = time.time()    \n",
    "    # Tình FPS:\n",
    "    fps = 1/(end_time-start_time)\n",
    "    # Ghi số lượng fps\n",
    "    cv2.putText(frame, f'FPS: {fps:.2f}', (100, 100), font, font_scale, font_color , font_thicknes)\n",
    "    # Hiển thị\n",
    "    cv2.imshow('Video Player', frame)\n",
    "    if(cv2.waitKey(10)==ord('q')):\n",
    "        break\n",
    "\n",
    "# Hủy bỏ player\n",
    "my_video.release()\n",
    "cv2.destroyAllWindows()"
   ]
  }
 ],
 "metadata": {
  "kernelspec": {
   "display_name": "Python 3 (ipykernel)",
   "language": "python",
   "name": "python3"
  },
  "language_info": {
   "codemirror_mode": {
    "name": "ipython",
    "version": 3
   },
   "file_extension": ".py",
   "mimetype": "text/x-python",
   "name": "python",
   "nbconvert_exporter": "python",
   "pygments_lexer": "ipython3",
   "version": "3.12.4"
  }
 },
 "nbformat": 4,
 "nbformat_minor": 5
}
