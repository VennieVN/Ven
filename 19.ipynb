{
 "cells": [
  {
   "cell_type": "code",
   "execution_count": 1,
   "id": "f84005c7-3cce-442f-b483-814f928d7a34",
   "metadata": {},
   "outputs": [
    {
     "name": "stdout",
     "output_type": "stream",
     "text": [
      "Collecting opencv-python\n",
      "  Downloading opencv_python-4.10.0.84-cp37-abi3-win_amd64.whl.metadata (20 kB)\n",
      "Requirement already satisfied: numpy>=1.21.2 in c:\\programdata\\anaconda3\\lib\\site-packages (from opencv-python) (1.26.4)\n",
      "Downloading opencv_python-4.10.0.84-cp37-abi3-win_amd64.whl (38.8 MB)\n",
      "   ---------------------------------------- 0.0/38.8 MB ? eta -:--:--\n",
      "    --------------------------------------- 0.8/38.8 MB 8.5 MB/s eta 0:00:05\n",
      "   -- ------------------------------------- 2.9/38.8 MB 9.3 MB/s eta 0:00:04\n",
      "   ---- ----------------------------------- 4.7/38.8 MB 8.9 MB/s eta 0:00:04\n",
      "   ------- -------------------------------- 7.1/38.8 MB 9.9 MB/s eta 0:00:04\n",
      "   --------- ------------------------------ 9.7/38.8 MB 10.2 MB/s eta 0:00:03\n",
      "   ------------ --------------------------- 12.1/38.8 MB 10.5 MB/s eta 0:00:03\n",
      "   -------------- ------------------------- 14.4/38.8 MB 10.7 MB/s eta 0:00:03\n",
      "   ----------------- ---------------------- 16.5/38.8 MB 10.6 MB/s eta 0:00:03\n",
      "   ------------------- -------------------- 18.9/38.8 MB 10.7 MB/s eta 0:00:02\n",
      "   --------------------- ------------------ 21.2/38.8 MB 10.8 MB/s eta 0:00:02\n",
      "   ------------------------ --------------- 23.6/38.8 MB 10.9 MB/s eta 0:00:02\n",
      "   -------------------------- ------------- 26.0/38.8 MB 11.0 MB/s eta 0:00:02\n",
      "   ----------------------------- ---------- 28.3/38.8 MB 11.0 MB/s eta 0:00:01\n",
      "   ------------------------------- -------- 30.7/38.8 MB 11.1 MB/s eta 0:00:01\n",
      "   ---------------------------------- ----- 33.3/38.8 MB 11.1 MB/s eta 0:00:01\n",
      "   ------------------------------------ --- 35.7/38.8 MB 11.2 MB/s eta 0:00:01\n",
      "   ---------------------------------------  38.0/38.8 MB 11.2 MB/s eta 0:00:01\n",
      "   ---------------------------------------  38.8/38.8 MB 11.2 MB/s eta 0:00:01\n",
      "   ---------------------------------------- 38.8/38.8 MB 10.7 MB/s eta 0:00:00\n",
      "Installing collected packages: opencv-python\n",
      "Successfully installed opencv-python-4.10.0.84\n"
     ]
    }
   ],
   "source": [
    "!pip install opencv-python"
   ]
  },
  {
   "cell_type": "code",
   "execution_count": 1,
   "id": "3963521c-a7ce-437c-8368-aed428bc6484",
   "metadata": {},
   "outputs": [],
   "source": [
    "def display(title, img):\n",
    "    #Hiện Thỉ ảnh\n",
    "    cv2.imshow(title, img)\n",
    "    #Chờ một khoảng TG\n",
    "    cv2.waitkey(1000)\n",
    "    #đóng window\n",
    "    cv2.destroywindow(title)"
   ]
  },
  {
   "cell_type": "code",
   "execution_count": 11,
   "id": "48378b44-2df6-4345-b192-52edb33e7afe",
   "metadata": {},
   "outputs": [],
   "source": [
    "# Import thư viện\n",
    "import cv2"
   ]
  },
  {
   "cell_type": "code",
   "execution_count": 13,
   "id": "5141f744-984a-47e3-ae44-04a1f025c3d2",
   "metadata": {},
   "outputs": [
    {
     "name": "stdout",
     "output_type": "stream",
     "text": [
      "[[[255 255 255]\n",
      "  [255 255 255]\n",
      "  [255 255 255]\n",
      "  ...\n",
      "  [255 255 255]\n",
      "  [255 255 255]\n",
      "  [255 255 255]]\n",
      "\n",
      " [[255 255 255]\n",
      "  [255 255 255]\n",
      "  [255 255 255]\n",
      "  ...\n",
      "  [255 255 255]\n",
      "  [255 255 255]\n",
      "  [255 255 255]]\n",
      "\n",
      " [[255 255 255]\n",
      "  [255 255 255]\n",
      "  [255 255 255]\n",
      "  ...\n",
      "  [255 255 255]\n",
      "  [255 255 255]\n",
      "  [255 255 255]]\n",
      "\n",
      " ...\n",
      "\n",
      " [[255 255 255]\n",
      "  [255 255 255]\n",
      "  [255 255 255]\n",
      "  ...\n",
      "  [255 255 255]\n",
      "  [255 255 255]\n",
      "  [255 255 255]]\n",
      "\n",
      " [[255 255 255]\n",
      "  [255 255 255]\n",
      "  [255 255 255]\n",
      "  ...\n",
      "  [255 255 255]\n",
      "  [255 255 255]\n",
      "  [255 255 255]]\n",
      "\n",
      " [[255 255 255]\n",
      "  [255 255 255]\n",
      "  [255 255 255]\n",
      "  ...\n",
      "  [255 255 255]\n",
      "  [255 255 255]\n",
      "  [255 255 255]]]\n"
     ]
    }
   ],
   "source": [
    "# Đọc một ảnh (nhan TAB de nhin autocomplete)\n",
    "path= 'C:/Users/Admin/Desktop/img/animal.jpg'\n",
    "img = cv2.imread(path)\n",
    "# In thông tin của ảnh\n",
    "print(img)"
   ]
  },
  {
   "cell_type": "code",
   "execution_count": 15,
   "id": "1bf27495-7e72-4dbf-b7e2-dab83c43ecd4",
   "metadata": {},
   "outputs": [
    {
     "name": "stdout",
     "output_type": "stream",
     "text": [
      "(2835, 2835, 3)\n",
      "2835\n",
      "2835\n",
      "3\n"
     ]
    }
   ],
   "source": [
    "# Lấy kích thước\n",
    "print(img.shape)\n",
    "x, y, z = img.shape\n",
    "print(x)\n",
    "print(y)\n",
    "print(z)"
   ]
  },
  {
   "cell_type": "code",
   "execution_count": 17,
   "id": "383e69e5-6b93-4ac7-8773-cdc44d9c08bd",
   "metadata": {},
   "outputs": [],
   "source": [
    "# Hiển thị ảnh\n",
    "cv2.imshow('Window', img)\n",
    "# Chờ một khoảng thời gian\n",
    "cv2.waitKey(10000)\n",
    "# Đóng window\n",
    "cv2.destroyWindow('Window')"
   ]
  },
  {
   "cell_type": "code",
   "execution_count": 19,
   "id": "16c970c2-6250-4f17-868f-110e292af9ac",
   "metadata": {},
   "outputs": [],
   "source": [
    "# Tách màu\n",
    "b, g, r = cv2.split(img)\n",
    "cv2.imshow('Window', img)\n",
    "cv2.imshow('Red', r)\n",
    "cv2.imshow('Green', g)\n",
    "cv2.imshow('Blue', b)\n",
    "\n",
    "# Chờ một khoảng thời gian\n",
    "cv2.waitKey(0)\n",
    "# Đóng window\n",
    "cv2.destroyAllWindows()"
   ]
  },
  {
   "cell_type": "code",
   "execution_count": 21,
   "id": "ed055b76-28a1-4220-bdbd-b941cf5111b0",
   "metadata": {},
   "outputs": [],
   "source": [
    "gray_img = cv2.cvtColor(img, cv2.COLOR_BGR2GRAY)\n",
    "img_2 = cv2.cvtColor(img, cv2.COLOR_BGR2RGB)\n",
    "cv2.imshow('Window', img)\n",
    "cv2.imshow('gray_img', gray_img)\n",
    "cv2.imshow('img_2', img_2)\n",
    "# Chờ một khoảng thời gian\n",
    "cv2.waitKey(0)\n",
    "# Đóng window\n",
    "cv2.destroyAllWindows()"
   ]
  },
  {
   "cell_type": "code",
   "execution_count": 3,
   "id": "8f86e33a-c2c9-4a4f-a164-6cec8ae811a5",
   "metadata": {},
   "outputs": [
    {
     "ename": "NameError",
     "evalue": "name 'img' is not defined",
     "output_type": "error",
     "traceback": [
      "\u001b[1;31m---------------------------------------------------------------------------\u001b[0m",
      "\u001b[1;31mNameError\u001b[0m                                 Traceback (most recent call last)",
      "Cell \u001b[1;32mIn[3], line 2\u001b[0m\n\u001b[0;32m      1\u001b[0m \u001b[38;5;66;03m# Thay đổi thông số của điểm ảnh\u001b[39;00m\n\u001b[1;32m----> 2\u001b[0m height, width, z \u001b[38;5;241m=\u001b[39m img\u001b[38;5;241m.\u001b[39mshape\n\u001b[0;32m      3\u001b[0m quater_h \u001b[38;5;241m=\u001b[39m height\u001b[38;5;241m/\u001b[39m\u001b[38;5;241m2\u001b[39m\n\u001b[0;32m      4\u001b[0m quater_w \u001b[38;5;241m=\u001b[39m width\u001b[38;5;241m/\u001b[39m\u001b[38;5;241m2\u001b[39m\n",
      "\u001b[1;31mNameError\u001b[0m: name 'img' is not defined"
     ]
    }
   ],
   "source": [
    "# Thay đổi thông số của điểm ảnh\n",
    "height, width, z = img.shape\n",
    "quater_h = height/2\n",
    "quater_w = width/2\n",
    "\n",
    "# geen color\n",
    "green_color = (0,255,0)\n",
    "\n",
    "# copy ảnh\n",
    "img2 = img.copy()\n",
    "\n",
    "# thay đổi màu của góc 1/4 bên trái trên\n",
    "\n",
    "for y in range(int(quater_h)):\n",
    "    for x in range(int(quater_w)):\n",
    "        img2[y, x] = green_color\n",
    "# Hiển thị\n",
    "display('Window', img)\n",
    "display('Window-2', img_2)"
   ]
  },
  {
   "cell_type": "code",
   "execution_count": null,
   "id": "e41acfc7-43ab-49b7-82cd-5b110289d1e8",
   "metadata": {},
   "outputs": [],
   "source": []
  }
 ],
 "metadata": {
  "kernelspec": {
   "display_name": "Python 3 (ipykernel)",
   "language": "python",
   "name": "python3"
  },
  "language_info": {
   "codemirror_mode": {
    "name": "ipython",
    "version": 3
   },
   "file_extension": ".py",
   "mimetype": "text/x-python",
   "name": "python",
   "nbconvert_exporter": "python",
   "pygments_lexer": "ipython3",
   "version": "3.12.4"
  }
 },
 "nbformat": 4,
 "nbformat_minor": 5
}
