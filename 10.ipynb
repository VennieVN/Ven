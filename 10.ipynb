{
 "cells": [
  {
   "cell_type": "code",
   "execution_count": null,
   "id": "000b6104-57ea-42d9-8427-5b22a7aa7f00",
   "metadata": {},
   "outputs": [],
   "source": [
    "# Import thư viện\n",
    "from PIL import Image\n",
    "import matplotlib.pyplot as plt\n",
    "\n",
    "# path img\n",
    "my_path = 'C:/Users/Admin/Desktop/img/Anime5.jpg'\n",
    "\n",
    "# read img\n",
    "im = Image.open(my_path)\n",
    "\n",
    "# switch backend\n",
    "plt.switch_backend('tkagg')\n",
    "\n",
    "# show img\n",
    "plt.imshow(im)\n",
    "plt.title('Click on the image to select points')\n",
    "\n",
    "# use ginput to pin point the img\n",
    "points = plt.ginput(5)\n",
    "\n",
    "print(points)\n",
    "\n",
    "# show\n",
    "plt.show()"
   ]
  },
  {
   "cell_type": "code",
   "execution_count": null,
   "id": "7b0eb22f-f056-4952-b537-14f7599d294d",
   "metadata": {},
   "outputs": [],
   "source": [
    "# redraw the points with * red dot\n",
    "plt.close()\n",
    "\n",
    "# redraw\n",
    "plt.imshow(im)\n",
    "for point in points:\n",
    "    x, y = point\n",
    "    plt.plot(x,y, 'r*')\n",
    "\n",
    "plt.show()"
   ]
  },
  {
   "cell_type": "code",
   "execution_count": null,
   "id": "2406b4d4-aace-4d0e-9e41-5f3d1d5b7717",
   "metadata": {},
   "outputs": [],
   "source": []
  }
 ],
 "metadata": {
  "kernelspec": {
   "display_name": "Python 3 (ipykernel)",
   "language": "python",
   "name": "python3"
  },
  "language_info": {
   "codemirror_mode": {
    "name": "ipython",
    "version": 3
   },
   "file_extension": ".py",
   "mimetype": "text/x-python",
   "name": "python",
   "nbconvert_exporter": "python",
   "pygments_lexer": "ipython3",
   "version": "3.12.4"
  }
 },
 "nbformat": 4,
 "nbformat_minor": 5
}
